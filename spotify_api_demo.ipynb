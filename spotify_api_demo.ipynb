{
 "cells": [
  {
   "cell_type": "code",
   "execution_count": 20,
   "metadata": {},
   "outputs": [],
   "source": [
    "import os\n",
    "import requests\n",
    "from sklearn.preprocessing import scale\n",
    "from sklearn import decomposition # PCA\n",
    "import pandas as pd\n",
    "import numpy as np\n",
    "\n",
    "AUTH_URL = 'https://accounts.spotify.com/api/token'\n",
    "CLIENT_ID = os.getenv('SPOTIFY_CLIENT_ID')\n",
    "CLIENT_SECRET = os.getenv('SPOTIFY_SECRET')\n",
    "\n",
    "# POST\n",
    "auth_response = requests.post(AUTH_URL, {\n",
    "    'grant_type': 'client_credentials',\n",
    "    'client_id': CLIENT_ID,\n",
    "    'client_secret': CLIENT_SECRET,\n",
    "})\n",
    "\n",
    "# convert the response to JSON\n",
    "auth_response_data = auth_response.json()\n",
    "\n",
    "# save the access token\n",
    "access_token = auth_response_data['access_token']\n",
    "\n",
    "headers = {\n",
    "    'Authorization': f'Bearer {access_token}'\n",
    "}"
   ]
  },
  {
   "cell_type": "code",
   "execution_count": 19,
   "metadata": {},
   "outputs": [
    {
     "data": {
      "text/plain": [
       "{'danceability': 0.567,\n",
       " 'energy': 0.714,\n",
       " 'key': 9,\n",
       " 'loudness': -8.512,\n",
       " 'mode': 0,\n",
       " 'speechiness': 0.0302,\n",
       " 'acousticness': 0.0012,\n",
       " 'instrumentalness': 0.417,\n",
       " 'liveness': 0.186,\n",
       " 'valence': 0.191,\n",
       " 'tempo': 107.441,\n",
       " 'type': 'audio_features',\n",
       " 'id': '55mJleti2WfWEFNFcBduhc',\n",
       " 'uri': 'spotify:track:55mJleti2WfWEFNFcBduhc',\n",
       " 'track_href': 'https://api.spotify.com/v1/tracks/55mJleti2WfWEFNFcBduhc',\n",
       " 'analysis_url': 'https://api.spotify.com/v1/audio-analysis/55mJleti2WfWEFNFcBduhc',\n",
       " 'duration_ms': 403533,\n",
       " 'time_signature': 3}"
      ]
     },
     "execution_count": 19,
     "metadata": {},
     "output_type": "execute_result"
    }
   ],
   "source": [
    "# base URL of all Spotify API endpoints\n",
    "BASE_URL = 'https://api.spotify.com/v1/'\n",
    "\n",
    "# Track ID from the URI\n",
    "track_id = '55mJleti2WfWEFNFcBduhc'\n",
    "\n",
    "# actual GET request with proper header\n",
    "r = requests.get(BASE_URL + 'audio-features/' + track_id, headers=headers)\n",
    "\n",
    "r.json()"
   ]
  },
  {
   "cell_type": "code",
   "execution_count": null,
   "metadata": {},
   "outputs": [],
   "source": []
  }
 ],
 "metadata": {
  "kernelspec": {
   "display_name": "Python 3",
   "language": "python",
   "name": "python3"
  },
  "language_info": {
   "codemirror_mode": {
    "name": "ipython",
    "version": 3
   },
   "file_extension": ".py",
   "mimetype": "text/x-python",
   "name": "python",
   "nbconvert_exporter": "python",
   "pygments_lexer": "ipython3",
   "version": "3.11.3"
  }
 },
 "nbformat": 4,
 "nbformat_minor": 2
}
